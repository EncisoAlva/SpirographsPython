{
  "nbformat": 4,
  "nbformat_minor": 0,
  "metadata": {
    "colab": {
      "provenance": [],
      "authorship_tag": "ABX9TyPEqrD0dN+ake0A2ck6RzgG",
      "include_colab_link": true
    },
    "kernelspec": {
      "name": "python3",
      "display_name": "Python 3"
    },
    "language_info": {
      "name": "python"
    }
  },
  "cells": [
    {
      "cell_type": "markdown",
      "metadata": {
        "id": "view-in-github",
        "colab_type": "text"
      },
      "source": [
        "<a href=\"https://colab.research.google.com/github/EncisoAlva/SpirographsPython/blob/main/BezierRoulettes.ipynb\" target=\"_parent\"><img src=\"https://colab.research.google.com/assets/colab-badge.svg\" alt=\"Open In Colab\"/></a>"
      ]
    },
    {
      "cell_type": "code",
      "execution_count": null,
      "metadata": {
        "id": "IP6Z_6J51NUd"
      },
      "outputs": [],
      "source": [
        "# libraries\n",
        "import numpy as np"
      ]
    },
    {
      "cell_type": "code",
      "source": [
        "def EvalBezier(CtrlPts: np.ndarray, tVals: np.ndarray) -> np.ndarray:\n",
        "    \"\"\"\n",
        "    Evaluate a cubic Bezier curve given its control points and a set of values\n",
        "    between 0 and 1, inclusive.\n",
        "\n",
        "    Input\n",
        "    ----------\n",
        "    CtrlPts : np.ndarray (2,4)\n",
        "        Control points for Bezier curve.\n",
        "    tVals : np.ndarray (1,T)\n",
        "        Values between 0 an 1, inclusive.\n",
        "\n",
        "    Output\n",
        "    -------\n",
        "    BezierVals : np.ndarray (1,T)\n",
        "        Points in the Bezier curve.\n",
        "    \"\"\"\n",
        "    t = np.asarray(tVals)\n",
        "\n",
        "    # Compute Bernstein basis polynomials\n",
        "    b0 = (1-t)**3\n",
        "    b1 = 3 * (1-t)**2 * t\n",
        "    b2 = 3 * (1-t) * t**2\n",
        "    b3 = t**3\n",
        "\n",
        "    # Combine control points\n",
        "    BezierVals = (\n",
        "        np.outer(CtrlPts[:, 0], b0)\n",
        "        + np.outer(CtrlPts[:, 1], b1)\n",
        "        + np.outer(CtrlPts[:, 2], b2)\n",
        "        + np.outer(CtrlPts[:, 3], b3)\n",
        "    )\n",
        "\n",
        "    return BezierVals"
      ],
      "metadata": {
        "id": "uJaRPn_778xI"
      },
      "execution_count": null,
      "outputs": []
    }
  ]
}